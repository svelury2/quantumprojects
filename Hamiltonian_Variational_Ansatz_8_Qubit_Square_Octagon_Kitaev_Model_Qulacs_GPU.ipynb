{
 "cells": [
  {
   "cell_type": "code",
   "execution_count": 1,
   "id": "c4b429f2",
   "metadata": {},
   "outputs": [],
   "source": [
    "from qulacs import QuantumStateGpu\n",
    "from qulacs import \n",
    "import pybobyqa"
   ]
  },
  {
   "cell_type": "code",
   "execution_count": null,
   "id": "7794c4c9",
   "metadata": {},
   "outputs": [],
   "source": [
    "#Qubits on Square-Octagon Lattice w/ Lattice Parameters\n",
    "qubits = [0, 1, 2, 3, 4, 5, 6, 7]\n",
    "Nq = len(qubits)\n",
    "\n",
    "xx_links = [(0, 1), (2, 3)]\n",
    "yy_links = [(0, 3), (1, 2)]\n",
    "yy_links_reversed = [(1, 2), (0, 3)]\n",
    "zz_links = [(0, 4), (1, 5), (2, 6), (3, 7)]\n",
    "zz_links_reversed = [(3, 7), (2, 6), (1, 5), (0, 4)]\n",
    "\n",
    "Jx, Jy, Jz = -1.0/math.sqrt(2), -1.0/math.sqrt(2), -1.0\n",
    "hX = hY = hZ = 0.05/math.sqrt(3)"
   ]
  }
 ],
 "metadata": {
  "kernelspec": {
   "display_name": "Python 3 (ipykernel)",
   "language": "python",
   "name": "python3"
  },
  "language_info": {
   "codemirror_mode": {
    "name": "ipython",
    "version": 3
   },
   "file_extension": ".py",
   "mimetype": "text/x-python",
   "name": "python",
   "nbconvert_exporter": "python",
   "pygments_lexer": "ipython3",
   "version": "3.9.13"
  }
 },
 "nbformat": 4,
 "nbformat_minor": 5
}
