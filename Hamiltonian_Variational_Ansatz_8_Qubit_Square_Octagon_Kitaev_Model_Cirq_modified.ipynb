{
 "cells": [
  {
   "cell_type": "code",
   "execution_count": 1,
   "metadata": {},
   "outputs": [
    {
     "name": "stdout",
     "output_type": "stream",
     "text": [
      "env: MKL_NUM_THREADS=1\n",
      "env: NUMEXPR_NUM_THREADS=1\n",
      "env: OMP_NUM_THREADS=1\n"
     ]
    }
   ],
   "source": [
    "%env MKL_NUM_THREADS=1\n",
    "%env NUMEXPR_NUM_THREADS=1\n",
    "%env OMP_NUM_THREADS=1"
   ]
  },
  {
   "cell_type": "code",
   "execution_count": 2,
   "metadata": {},
   "outputs": [],
   "source": [
    "import multiprocessing\n",
    "import concurrent.futures as cf\n",
    "\n",
    "import matplotlib.pyplot as plt\n",
    "import numpy as np\n",
    "import math\n",
    "import pybobyqa\n",
    "\n",
    "import cirq\n",
    "import sympy as sp"
   ]
  },
  {
   "cell_type": "code",
   "execution_count": 3,
   "metadata": {},
   "outputs": [],
   "source": [
    "#Qubits on Square-Octagon Lattice w/ Lattice Parameters\n",
    "qubits = [0, 1, 2, 3, 4, 5, 6, 7]\n",
    "Nq = len(qubits)\n",
    "\n",
    "xx_links = [(0, 1), (2, 3)]\n",
    "yy_links = [(0, 3), (1, 2)]\n",
    "yy_links_reversed = [(1, 2), (0, 3)]\n",
    "zz_links = [(0, 4), (1, 5), (2, 6), (3, 7)]\n",
    "zz_links_reversed = [(3, 7), (2, 6), (1, 5), (0, 4)]\n",
    "\n",
    "Jx, Jy, Jz = -1.0/math.sqrt(2), -1.0/math.sqrt(2), -1.0\n",
    "hX = hY = hZ = 0.05/math.sqrt(3)"
   ]
  },
  {
   "cell_type": "code",
   "execution_count": 4,
   "metadata": {},
   "outputs": [],
   "source": [
    "#Hamiltonian Construction\n",
    "\n",
    "#Qubit register for Hamiltonian\n",
    "qreg = cirq.NamedQubit.range(Nq,prefix=\"q\")\n",
    "\n",
    "#Constructing Pauli Strings\n",
    "XX_links_strings = []\n",
    "for (i,j) in xx_links:\n",
    "    XX_string = []\n",
    "    for q in range(Nq):\n",
    "        if q != i and q != j:\n",
    "            XX_string.append(cirq.I(qreg[q]))\n",
    "        else:\n",
    "            XX_string.append(cirq.X(qreg[q]))\n",
    "    XX_links_strings.append(XX_string)\n",
    "    \n",
    "YY_links_strings = []\n",
    "for (i,j) in yy_links:\n",
    "    YY_string = []\n",
    "    for q in range(Nq):\n",
    "        if q != i and q != j:\n",
    "            YY_string.append(cirq.I(qreg[q]))\n",
    "        else:\n",
    "            YY_string.append(cirq.Y(qreg[q]))\n",
    "    YY_links_strings.append(YY_string)\n",
    "\n",
    "ZZ_links_strings = []\n",
    "for (i,j) in zz_links:\n",
    "    ZZ_string = []\n",
    "    for q in range(Nq):\n",
    "        if q != i and q != j:\n",
    "            ZZ_string.append(cirq.I(qreg[q]))\n",
    "        else:\n",
    "            ZZ_string.append(cirq.Z(qreg[q]))\n",
    "    ZZ_links_strings.append(ZZ_string)\n",
    "\n",
    "X_qubit_strings = []\n",
    "Y_qubit_strings = []\n",
    "Z_qubit_strings = []\n",
    "for k in qubits:\n",
    "    X_string = []\n",
    "    Y_string = []\n",
    "    Z_string = []\n",
    "    for q in range(Nq):\n",
    "        if q != k:\n",
    "            X_string.append(cirq.I(qreg[q]))\n",
    "            Y_string.append(cirq.I(qreg[q]))\n",
    "            Z_string.append(cirq.I(qreg[q]))\n",
    "        else:\n",
    "            X_string.append(cirq.X(qreg[q]))\n",
    "            Y_string.append(cirq.Y(qreg[q]))\n",
    "            Z_string.append(cirq.Z(qreg[q]))\n",
    "    X_qubit_strings.append(X_string)\n",
    "    Y_qubit_strings.append(Y_string)\n",
    "    Z_qubit_strings.append(Z_string)"
   ]
  },
  {
   "cell_type": "code",
   "execution_count": 5,
   "metadata": {},
   "outputs": [],
   "source": [
    "#Hamiltonian Construction (ctd.)\n",
    "\n",
    "#Convert Pauli Strings into Products\n",
    "XX_links_terms = []\n",
    "for XX_link in XX_links_strings:\n",
    "    XX_links_terms.append(cirq.PauliString(XX_link))\n",
    "\n",
    "YY_links_terms = []\n",
    "for YY_link in YY_links_strings:\n",
    "    YY_links_terms.append(cirq.PauliString(YY_link))\n",
    "    \n",
    "ZZ_links_terms = []\n",
    "for ZZ_link in ZZ_links_strings:\n",
    "    ZZ_links_terms.append(cirq.PauliString(ZZ_link))\n",
    "\n",
    "X_qubit_terms = []\n",
    "for qubit_string in X_qubit_strings:\n",
    "    X_qubit_terms.append(cirq.PauliString(qubit_string))\n",
    "\n",
    "Y_qubit_terms = []\n",
    "for qubit_string in Y_qubit_strings:\n",
    "    Y_qubit_terms.append(cirq.PauliString(qubit_string))\n",
    "\n",
    "Z_qubit_terms = []\n",
    "for qubit_string in Z_qubit_strings:\n",
    "    Z_qubit_terms.append(cirq.PauliString(qubit_string))"
   ]
  },
  {
   "cell_type": "code",
   "execution_count": 6,
   "metadata": {},
   "outputs": [],
   "source": [
    "#Hamiltonian Construction (ctd.)\n",
    "\n",
    "#Add up all the terms\n",
    "Hamiltonian = 0\n",
    "for XX_link in XX_links_terms:\n",
    "    Hamiltonian += Jx*XX_link\n",
    "for YY_link in YY_links_terms:\n",
    "    Hamiltonian += Jy*YY_link\n",
    "for ZZ_link in ZZ_links_terms:\n",
    "    Hamiltonian += Jz*ZZ_link\n",
    "for X_qubit in X_qubit_terms:\n",
    "    Hamiltonian += hX*X_qubit\n",
    "for Y_qubit in Y_qubit_terms:\n",
    "    Hamiltonian += hY*Y_qubit\n",
    "for Z_qubit in Z_qubit_terms:\n",
    "    Hamiltonian += hZ*Z_qubit"
   ]
  },
  {
   "cell_type": "code",
   "execution_count": 7,
   "metadata": {},
   "outputs": [
    {
     "name": "stdout",
     "output_type": "stream",
     "text": [
      "Min eigvalue: (-4.701075608032761-3.958045905044745e-17j)\n"
     ]
    }
   ],
   "source": [
    "##Exact Diagonalization of Hamiltonian (Square-Octagon Model)\n",
    "eigvals, eigvecs = np.linalg.eig(Hamiltonian.matrix())\n",
    "print(f\"Min eigvalue: {min(eigvals)}\")"
   ]
  },
  {
   "cell_type": "code",
   "execution_count": 8,
   "metadata": {},
   "outputs": [],
   "source": [
    "##Hamiltonian Variational Ansatz Circuit Construction\n",
    "def HVA_circuit(alpha, beta, gamma, alpha_mag, beta_mag, gamma_mag, n_layers):\n",
    "    global xx_links\n",
    "    global yy_links\n",
    "    global yy_links_reversed\n",
    "    global zz_links\n",
    "    global zz_links_reversed\n",
    "    global qubits\n",
    "    #Initialize Circuit\n",
    "    HVA = cirq.Circuit()\n",
    "    qreg_HVA = cirq.NamedQubit.range(Nq, prefix=\"q\")\n",
    "    #Declare variational parameters\n",
    "    #alpha = sp.symarray('alpha', n_layers)\n",
    "    #beta = sp.symarray('beta', n_layers)\n",
    "    #gamma = sp.symarray('gamma', n_layers)\n",
    "    #alpha_mag = sp.symarray('alpha_mag', n_layers)\n",
    "    #beta_mag = sp.symarray('beta_mag', n_layers)\n",
    "    #gamma_mag = sp.symarray('gamma_mag', n_layers)\n",
    "    #Ansatz Construction\n",
    "    for idx_layer in range(n_layers):\n",
    "    #Construct X-terms portion of layer\n",
    "        HVA.append(cirq.rx(2*alpha_mag[idx_layer]).on(q) for q in qreg_HVA)\n",
    "        for (i,j) in xx_links:\n",
    "            HVA.append(cirq.H(qreg_HVA[i]))\n",
    "            HVA.append(cirq.H(qreg_HVA[j]))\n",
    "            HVA.append(cirq.CNOT(qreg_HVA[max(i,j)],qreg_HVA[min(i,j)]))\n",
    "            HVA.append(cirq.rz(2*alpha[idx_layer]).on(qreg_HVA[min(i,j)]))\n",
    "            HVA.append(cirq.CNOT(qreg_HVA[max(i,j)],qreg_HVA[min(i,j)]))\n",
    "            HVA.append(cirq.H(qreg_HVA[i]))\n",
    "            HVA.append(cirq.H(qreg_HVA[j]))\n",
    "    #Construct Y-terms portion of layer\n",
    "        HVA.append(cirq.ry(2*beta_mag[idx_layer]).on(q) for q in qreg_HVA)\n",
    "        for (i,j) in yy_links:\n",
    "            HVA.append(cirq.rx(math.pi/2).on(qreg_HVA[i]))\n",
    "            HVA.append(cirq.rx(math.pi/2).on(qreg_HVA[j]))\n",
    "            HVA.append(cirq.CNOT(qreg_HVA[max(i,j)],qreg_HVA[min(i,j)]))\n",
    "        for (i,j) in yy_links_reversed:\n",
    "            HVA.append(cirq.rz(2*beta[idx_layer]).on(qreg_HVA[min(i,j)]))\n",
    "            HVA.append(cirq.CNOT(qreg_HVA[max(i,j)],qreg_HVA[min(i,j)]))\n",
    "            HVA.append(cirq.rx(-math.pi/2).on(qreg_HVA[i]))\n",
    "            HVA.append(cirq.rx(-math.pi/2).on(qreg_HVA[j]))\n",
    "    #Construct Z-terms portion of layer\n",
    "        HVA.append(cirq.rz(2*gamma_mag[idx_layer]).on(q) for q in qreg_HVA)\n",
    "        for (i,j) in zz_links:\n",
    "            HVA.append(cirq.CNOT(qreg_HVA[max(i,j)],qreg_HVA[min(i,j)]))\n",
    "        for (i,j) in zz_links_reversed:\n",
    "            HVA.append(cirq.rz(2*gamma[idx_layer]).on(qreg_HVA[min(i,j)]))\n",
    "            HVA.append(cirq.CNOT(qreg_HVA[max(i,j)],qreg_HVA[min(i,j)]))\n",
    "    return HVA"
   ]
  },
  {
   "cell_type": "code",
   "execution_count": 9,
   "metadata": {},
   "outputs": [],
   "source": [
    "##Construct Objective Function\n",
    "def objective(params, hamiltonian, qreg, simulator):\n",
    "    alpha = params[:n_layers]\n",
    "    beta = params[n_layers:2*n_layers]\n",
    "    gamma = params[2*n_layers:3*n_layers]\n",
    "    alpha_mag = params[3*n_layers:4*n_layers]\n",
    "    beta_mag = params[4*n_layers:5*n_layers]\n",
    "    gamma_mag = params[5*n_layers:]\n",
    "    ansatz = HVA_circuit(alpha, beta, gamma, alpha_mag, beta_mag, gamma_mag, n_layers)\n",
    "    #expect = simulator.simulate_expectation_values(ansatz, hamiltonian)\n",
    "    psi = ansatz.final_state_vector()\n",
    "    expect = hamiltonian.expectation_from_state_vector(psi, qubit_map={q: i for i, q in enumerate(qreg)})\n",
    "    return np.real(expect)"
   ]
  },
  {
   "cell_type": "code",
   "execution_count": 10,
   "metadata": {},
   "outputs": [],
   "source": [
    "##Construct Objective Function\n",
    "def objective_modified(params, hamiltonian_matrix, n_layers):\n",
    "    simulator = cirq.Simulator()\n",
    "    qreg = cirq.NamedQubit.range(Nq, prefix=\"q\")\n",
    "\n",
    "    alpha = params[:n_layers]\n",
    "    beta = params[n_layers:2*n_layers]\n",
    "    gamma = params[2*n_layers:3*n_layers]\n",
    "    alpha_mag = params[3*n_layers:4*n_layers]\n",
    "    beta_mag = params[4*n_layers:5*n_layers]\n",
    "    gamma_mag = params[5*n_layers:]\n",
    "    ansatz = HVA_circuit(alpha, beta, gamma, alpha_mag, beta_mag, gamma_mag, n_layers)\n",
    "    #expect = simulator.simulate_expectation_values(ansatz, hamiltonian)\n",
    "    psi = ansatz.final_state_vector()\n",
    "    expect = hamiltonian_matrix.dot(psi)\n",
    "    expect = psi.conjugate().dot(expect)\n",
    "    return np.real(expect)"
   ]
  },
  {
   "cell_type": "code",
   "execution_count": 11,
   "metadata": {},
   "outputs": [
    {
     "name": "stdout",
     "output_type": "stream",
     "text": [
      "-1.1557166222757882\n",
      "-1.155716622275788\n"
     ]
    }
   ],
   "source": [
    "n_layers = 4\n",
    "paras_random = np.random.uniform(-np.pi, np.pi, size = (6*n_layers, ))\n",
    "simulator = cirq.Simulator()\n",
    "qreg = cirq.NamedQubit.range(Nq, prefix=\"q\")\n",
    "hamiltonian_matrix = Hamiltonian.matrix()\n",
    "\n",
    "print(objective(paras_random, Hamiltonian, qreg, simulator))\n",
    "print(objective_modified(paras_random, hamiltonian_matrix, n_layers))"
   ]
  },
  {
   "cell_type": "code",
   "execution_count": 12,
   "metadata": {},
   "outputs": [
    {
     "name": "stdout",
     "output_type": "stream",
     "text": [
      "CPU times: user 7.68 s, sys: 31.6 ms, total: 7.71 s\n",
      "Wall time: 7.72 s\n"
     ]
    }
   ],
   "source": [
    "%%time\n",
    "n_layers = 4\n",
    "paras_random = np.random.uniform(-np.pi, np.pi, size = (6*n_layers, ))\n",
    "hamiltonian_matrix = Hamiltonian.matrix()\n",
    "\n",
    "for j in range(200):\n",
    "    objective_modified(paras_random, hamiltonian_matrix, n_layers)"
   ]
  },
  {
   "cell_type": "code",
   "execution_count": 13,
   "metadata": {},
   "outputs": [
    {
     "name": "stdout",
     "output_type": "stream",
     "text": [
      "CPU times: user 199 ms, sys: 119 ms, total: 318 ms\n",
      "Wall time: 1.02 s\n"
     ]
    }
   ],
   "source": [
    "%%time\n",
    "n_layers = 4\n",
    "paras_random = np.random.uniform(-np.pi, np.pi, size = (6*n_layers, ))\n",
    "hamiltonian_matrix = Hamiltonian.matrix()\n",
    "\n",
    "ex = cf.ProcessPoolExecutor(max_workers=10)\n",
    "job_list = [ex.submit(objective_modified, paras_random, hamiltonian_matrix, n_layers) for j in range(200)]\n",
    "ex.shutdown(wait=True)\n",
    "result = [job.result() for job in job_list]"
   ]
  },
  {
   "cell_type": "code",
   "execution_count": 14,
   "metadata": {},
   "outputs": [],
   "source": [
    "##Define a function that executes VQE for parallelization purposes \n",
    "def VQE(initial_params, n_layers, cf_evals_max, ham, qreg, sim):\n",
    "    res = pybobyqa.solve(objective, x0=initial_params, args=(ham, qreg, sim), maxfun = cf_evals_max)\n",
    "    return res"
   ]
  },
  {
   "cell_type": "code",
   "execution_count": 15,
   "metadata": {},
   "outputs": [],
   "source": [
    "##Define a function that executes VQE for parallelization purposes \n",
    "def VQE_modified(initial_params, n_layers, cf_evals_max, hamiltonian_matrix):\n",
    "    res = pybobyqa.solve(\n",
    "        objective_modified, x0=initial_params,\n",
    "        args=(hamiltonian_matrix, n_layers), maxfun = cf_evals_max)\n",
    "    return res"
   ]
  },
  {
   "cell_type": "code",
   "execution_count": 17,
   "metadata": {
    "scrolled": false
   },
   "outputs": [
    {
     "name": "stdout",
     "output_type": "stream",
     "text": [
      "CPU times: user 685 ms, sys: 578 ms, total: 1.26 s\n",
      "Wall time: 1min 4s\n"
     ]
    }
   ],
   "source": [
    "%%time\n",
    "##Perform VQE\n",
    "\n",
    "#Initialize the simulator\n",
    "simulator = cirq.Simulator()\n",
    "qubit_reg = cirq.NamedQubit.range(Nq, prefix=\"q\")\n",
    "\n",
    "#Specify number of workers to use in parallelization (use maximum number of cores)\n",
    "n_workers_use = 64\n",
    "\n",
    "#Specify max number of layers\n",
    "n_layers_max = 1\n",
    "\n",
    "#Specify number of initial values\n",
    "n_initial_vals_max = 501\n",
    "\n",
    "#Specify max number of cost function evaluations\n",
    "cost_function_evals_max = 2000\n",
    "\n",
    "#Loop that executes VQE\n",
    "for n_layers in range(n_layers_max, n_layers_max+1):\n",
    "    initial_values = np.random.uniform(-np.pi, np.pi, size = (n_initial_vals_max, 6*n_layers))\n",
    "    ex = cf.ProcessPoolExecutor(max_workers=n_workers_use)\n",
    "    job_list = [ex.submit(VQE_modified, initial_value, n_layers, cost_function_evals_max, hamiltonian_matrix) for initial_value in initial_values]\n",
    "    ex.shutdown(wait=True)\n",
    "    result = [job.result() for job in job_list]"
   ]
  },
  {
   "cell_type": "code",
   "execution_count": 10,
   "metadata": {},
   "outputs": [
    {
     "name": "stdout",
     "output_type": "stream",
     "text": [
      "No. of layers: 1\n",
      "Optimal parameters: [6.132852122445387, 2.991268338774197, 3.1392684872003183, 4.713424896582486, -0.02710765361176536, 8.24423078313647]\n",
      "Optimal value: -4.678564702339708\n",
      "**************************************************\n",
      "No. of layers: 2\n",
      "Optimal parameters: [3.298782136001315, -0.03302327241939069, 3.1462213653946804, 3.2954807146277787, 3.149245464880128, 4.740751429728666, 4.1192833100245245, 3.589762258880153, 1.9187015625173822, 5.289558018160561, -1.0683487418117092, 4.327524726622344]\n",
      "Optimal value: -4.6823336259459865\n",
      "**************************************************\n",
      "No. of layers: 3\n",
      "Optimal parameters: [1.4156131955489493, 3.449826663118241, 1.560899668175568, 2.3765484022897243, 1.7672767186153102, 2.9346387246414083, 6.271535044368608, 6.283133998440727, 1.5546148892715566, 3.8891612676792895, 2.147826786055702, 3.351377011687746, 1.437976038732945, 1.6686666301242685, 2.380734934399784, 2.233801896628324, 1.64008168270787, 2.2293756016476167]\n",
      "Optimal value: -4.700398260670254\n",
      "**************************************************\n",
      "No. of layers: 4\n",
      "Optimal parameters: [1.3800536702454704, 3.1436913926819114, 1.3340514899285685, 1.6431842314717977, 3.3918148257525718, 1.1970886870781965, 3.010747073963042, 0.07345621254235092, -0.005636975136355589, -0.0043306225779384784, 4.531413652197095, 1.305647088370832, 1.3876267467975087, 4.7313233977387466, 4.748917014397562, 4.804741000960135, 5.516657155493102, 5.484848247832368, 3.072943774973335, 3.0804588460128914, 1.5773385638464432, 4.056748130232158, 2.7564932052014997, 4.085766190339888]\n",
      "Optimal value: -4.700967633646449\n",
      "**************************************************\n",
      "No. of layers: 5\n",
      "Optimal parameters: [6.150021867279972, 4.711019931468093, 0.7836237948884426, 1.553045975325977, 1.5070368796069529, 0.7066263924821088, 6.287918380464561, 5.49334083663111, 1.53109664294861, 3.0874087322441, -0.008093300040630047, 4.714260653883852, 3.0732304978959237, 1.6045299538892406, 4.443270198452079, 3.130182359272892, 0.9917347846902649, 1.3540378263764723, 1.5913438028675122, 4.8553512287261755, 1.370490582672713, 2.024289049666994, 3.5933648989100826, 4.893910416945918, 1.9911929659179355, 1.2893428301981844, 0.5535607831462515, 1.6885629979213146, 2.9211296506080777, 6.290964435333712]\n",
      "Optimal value: -4.701028811243507\n",
      "**************************************************\n",
      "No. of layers: 6\n",
      "Optimal parameters: [5.675458857821737, 4.0675762372090745, 1.5513491055156676, 4.705832789084246, 4.724531089759263, 4.801905282004911, 6.21940608689514, 3.930987655269788, 4.677476277593213, 0.04215351476799816, 4.715862374109678, 4.777160090596411, 4.720180073169433, 6.227185134216903, 3.1779018541216493, 4.2848580913466865, 4.680972953700663, 5.040154014374237, 4.779517021025122, 0.9965649684430362, 5.511092038042321, 2.55784895186685, 2.6748045202512243, 0.9788081590945026, 4.5523574566845815, 5.787670342649857, 2.1865259009124025, 5.8203338088660255, 4.257835869955694, 6.2463583516653856, 0.8014562132609732, 6.274625140243763, 2.818036733717097, 5.051170395522819, 1.8967313146540208, -0.07590032585391684]\n",
      "Optimal value: -4.7010592723979645\n",
      "**************************************************\n"
     ]
    }
   ],
   "source": [
    "#for n_layers in range(n_layers_max):\n",
    "    #print(f\"No. of layers: {n_layers+1}\")\n",
    "    #print(f\"Optimal parameters: {list(res_min[n_layers].x)}\")\n",
    "    #print(f\"Optimal value: {res_min[n_layers].f}\")\n",
    "    #print(\"*\" * 50)"
   ]
  },
  {
   "cell_type": "code",
   "execution_count": null,
   "metadata": {},
   "outputs": [],
   "source": []
  }
 ],
 "metadata": {
  "kernelspec": {
   "display_name": "quantum38_test",
   "language": "python",
   "name": "quantum38_test"
  },
  "language_info": {
   "codemirror_mode": {
    "name": "ipython",
    "version": 3
   },
   "file_extension": ".py",
   "mimetype": "text/x-python",
   "name": "python",
   "nbconvert_exporter": "python",
   "pygments_lexer": "ipython3",
   "version": "3.8.12"
  },
  "latex_envs": {
   "LaTeX_envs_menu_present": true,
   "autoclose": false,
   "autocomplete": true,
   "bibliofile": "biblio.bib",
   "cite_by": "apalike",
   "current_citInitial": 1,
   "eqLabelWithNumbers": true,
   "eqNumInitial": 1,
   "hotkeys": {
    "equation": "Ctrl-E",
    "itemize": "Ctrl-I"
   },
   "labels_anchors": false,
   "latex_user_defs": false,
   "report_style_numbering": false,
   "user_envs_cfg": false
  },
  "toc": {
   "base_numbering": 1,
   "nav_menu": {},
   "number_sections": true,
   "sideBar": true,
   "skip_h1_title": false,
   "title_cell": "Table of Contents",
   "title_sidebar": "Contents",
   "toc_cell": false,
   "toc_position": {},
   "toc_section_display": true,
   "toc_window_display": true
  }
 },
 "nbformat": 4,
 "nbformat_minor": 5
}
